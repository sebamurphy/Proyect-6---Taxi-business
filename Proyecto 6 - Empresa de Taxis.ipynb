{
 "cells": [
  {
   "cell_type": "markdown",
   "id": "dc2ad10e",
   "metadata": {},
   "source": [
    "### Paso 4. Análisis exploratorio de datos (Python)"
   ]
  },
  {
   "cell_type": "markdown",
   "id": "cfbb84aa",
   "metadata": {},
   "source": [
    "**Además de los datos que recuperaste en las tareas anteriores te han dado un segundo archivo. Ahora tienes estos dos CSV:**\n",
    "\n",
    "**/datasets/project_sql_result_01.csv. contiene los siguientes datos:**\n",
    "\n",
    "**company_name: nombre de la empresa de taxis**\n",
    "\n",
    "**trips_amount: el número de viajes de cada compañía de taxis el 15 y 16 de noviembre de 2017.**\n",
    "\n",
    "**/datasets/project_sql_result_04.csv. contiene los siguientes datos:**\n",
    "\n",
    "**dropoff_location_name: barrios de Chicago donde finalizaron los viajes**\n",
    "\n",
    "**average_trips: el promedio de viajes que terminaron en cada barrio en noviembre de 2017.**"
   ]
  },
  {
   "cell_type": "markdown",
   "id": "432ed46b",
   "metadata": {},
   "source": [
    "**Para estos dos datasets ahora necesitas** \n",
    "\n",
    "- Importar los archivos\n",
    "- Estudiar los datos que contienen\n",
    "- Asegurarte de que los tipos de datos sean correctos\n",
    "- Identificar los 10 principales barrios en términos de finalización del recorrido\n",
    "- Hacer gráficos: empresas de taxis y número de viajes, los 10 barrios principales por número de finalizaciones\n",
    "- Sacar conclusiones basadas en cada gráfico y explicar los resultados"
   ]
  },
  {
   "cell_type": "markdown",
   "id": "c6126e81",
   "metadata": {},
   "source": [
    "### Paso 5. Prueba de hipótesis (Python)"
   ]
  },
  {
   "cell_type": "markdown",
   "id": "7331efd2",
   "metadata": {},
   "source": [
    "**/datasets/project_sql_result_07.csv — el resultado de la última consulta. Contiene datos sobre viajes desde el Loop hasta el Aeropuerto Internacional O'Hare. Recuerda, estos son los valores de campo de la tabla:**\n",
    "\n",
    "- start_ts: fecha y hora de la recogida\n",
    "- weather_conditions: condiciones climáticas en el momento en el que comenzó el viaje\n",
    "- duration_seconds: duración del viaje en segundos"
   ]
  },
  {
   "cell_type": "markdown",
   "id": "c9dff608",
   "metadata": {},
   "source": [
    "**Prueba la hipótesis:**\n",
    "\n",
    "- \"La duración promedio de los viajes desde el Loop hasta el Aeropuerto Internacional O'Hare cambia los sábados lluviosos\".\n",
    "\n",
    "Decide por tu cuenta dónde establecer el nivel de significación (alfa).\n",
    "\n",
    "**Explica:**\n",
    "- Cómo planteaste las hipótesis nula y alternativa\n",
    "- Qué criterio usaste para probar las hipótesis y por qué"
   ]
  },
  {
   "cell_type": "markdown",
   "id": "b94897de",
   "metadata": {},
   "source": [
    "# Paso 4. Análisis exploratorio de datos (Python)"
   ]
  },
  {
   "cell_type": "code",
   "execution_count": 1,
   "id": "6694bc5c",
   "metadata": {},
   "outputs": [],
   "source": [
    "import pandas as pd\n",
    "import seaborn as sns\n",
    "import numpy as np\n",
    "import matplotlib.pyplot as plt\n",
    "from matplotlib import colors as mcolors\n",
    "%matplotlib inline\n",
    "from math import factorial\n",
    "from scipy import stats as st\n",
    "import random"
   ]
  },
  {
   "cell_type": "code",
   "execution_count": 2,
   "id": "5669b65f",
   "metadata": {},
   "outputs": [],
   "source": [
    "try:\n",
    "    company = pd.read_csv(r\"C:\\Users\\seba\\Desktop\\project_sql_result_01.csv\")\n",
    "    viajes = pd.read_csv(r\"C:\\Users\\seba\\Desktop\\project_sql_result_04.csv\")\n",
    "    airport = pd.read_csv(r\"C:\\Users\\seba\\Desktop\\project_sql_result_07.csv\")\n",
    "except:\n",
    "    company = pd.read_csv(\"/datasets/project_sql_result_01.csv\")\n",
    "    viajes = pd.read_csv(\"/datasets/project_sql_result_04.csv\")\n",
    "    airport = pd.read_csv(\"/datasets/project_sql_result_07.csv\")"
   ]
  },
  {
   "cell_type": "code",
   "execution_count": 3,
   "id": "e1fe98b9",
   "metadata": {},
   "outputs": [
    {
     "data": {
      "text/html": [
       "<div>\n",
       "<style scoped>\n",
       "    .dataframe tbody tr th:only-of-type {\n",
       "        vertical-align: middle;\n",
       "    }\n",
       "\n",
       "    .dataframe tbody tr th {\n",
       "        vertical-align: top;\n",
       "    }\n",
       "\n",
       "    .dataframe thead th {\n",
       "        text-align: right;\n",
       "    }\n",
       "</style>\n",
       "<table border=\"1\" class=\"dataframe\">\n",
       "  <thead>\n",
       "    <tr style=\"text-align: right;\">\n",
       "      <th></th>\n",
       "      <th>company_name</th>\n",
       "      <th>trips_amount</th>\n",
       "    </tr>\n",
       "  </thead>\n",
       "  <tbody>\n",
       "    <tr>\n",
       "      <th>0</th>\n",
       "      <td>Flash Cab</td>\n",
       "      <td>19558</td>\n",
       "    </tr>\n",
       "    <tr>\n",
       "      <th>1</th>\n",
       "      <td>Taxi Affiliation Services</td>\n",
       "      <td>11422</td>\n",
       "    </tr>\n",
       "    <tr>\n",
       "      <th>2</th>\n",
       "      <td>Medallion Leasing</td>\n",
       "      <td>10367</td>\n",
       "    </tr>\n",
       "    <tr>\n",
       "      <th>3</th>\n",
       "      <td>Yellow Cab</td>\n",
       "      <td>9888</td>\n",
       "    </tr>\n",
       "    <tr>\n",
       "      <th>4</th>\n",
       "      <td>Taxi Affiliation Service Yellow</td>\n",
       "      <td>9299</td>\n",
       "    </tr>\n",
       "  </tbody>\n",
       "</table>\n",
       "</div>"
      ],
      "text/plain": [
       "                      company_name  trips_amount\n",
       "0                        Flash Cab         19558\n",
       "1        Taxi Affiliation Services         11422\n",
       "2                Medallion Leasing         10367\n",
       "3                       Yellow Cab          9888\n",
       "4  Taxi Affiliation Service Yellow          9299"
      ]
     },
     "execution_count": 3,
     "metadata": {},
     "output_type": "execute_result"
    }
   ],
   "source": [
    "company.head()"
   ]
  },
  {
   "cell_type": "code",
   "execution_count": 4,
   "id": "935c9920",
   "metadata": {
    "scrolled": true
   },
   "outputs": [
    {
     "name": "stdout",
     "output_type": "stream",
     "text": [
      "<class 'pandas.core.frame.DataFrame'>\n",
      "RangeIndex: 64 entries, 0 to 63\n",
      "Data columns (total 2 columns):\n",
      " #   Column        Non-Null Count  Dtype \n",
      "---  ------        --------------  ----- \n",
      " 0   company_name  64 non-null     object\n",
      " 1   trips_amount  64 non-null     int64 \n",
      "dtypes: int64(1), object(1)\n",
      "memory usage: 1.1+ KB\n"
     ]
    }
   ],
   "source": [
    "company.info()"
   ]
  },
  {
   "cell_type": "code",
   "execution_count": 5,
   "id": "dcf1cfd4",
   "metadata": {
    "scrolled": true
   },
   "outputs": [
    {
     "data": {
      "text/html": [
       "<div>\n",
       "<style scoped>\n",
       "    .dataframe tbody tr th:only-of-type {\n",
       "        vertical-align: middle;\n",
       "    }\n",
       "\n",
       "    .dataframe tbody tr th {\n",
       "        vertical-align: top;\n",
       "    }\n",
       "\n",
       "    .dataframe thead th {\n",
       "        text-align: right;\n",
       "    }\n",
       "</style>\n",
       "<table border=\"1\" class=\"dataframe\">\n",
       "  <thead>\n",
       "    <tr style=\"text-align: right;\">\n",
       "      <th></th>\n",
       "      <th>trips_amount</th>\n",
       "    </tr>\n",
       "  </thead>\n",
       "  <tbody>\n",
       "    <tr>\n",
       "      <th>count</th>\n",
       "      <td>64.000000</td>\n",
       "    </tr>\n",
       "    <tr>\n",
       "      <th>mean</th>\n",
       "      <td>2145.484375</td>\n",
       "    </tr>\n",
       "    <tr>\n",
       "      <th>std</th>\n",
       "      <td>3812.310186</td>\n",
       "    </tr>\n",
       "    <tr>\n",
       "      <th>min</th>\n",
       "      <td>2.000000</td>\n",
       "    </tr>\n",
       "    <tr>\n",
       "      <th>25%</th>\n",
       "      <td>20.750000</td>\n",
       "    </tr>\n",
       "    <tr>\n",
       "      <th>50%</th>\n",
       "      <td>178.500000</td>\n",
       "    </tr>\n",
       "    <tr>\n",
       "      <th>75%</th>\n",
       "      <td>2106.500000</td>\n",
       "    </tr>\n",
       "    <tr>\n",
       "      <th>max</th>\n",
       "      <td>19558.000000</td>\n",
       "    </tr>\n",
       "  </tbody>\n",
       "</table>\n",
       "</div>"
      ],
      "text/plain": [
       "       trips_amount\n",
       "count     64.000000\n",
       "mean    2145.484375\n",
       "std     3812.310186\n",
       "min        2.000000\n",
       "25%       20.750000\n",
       "50%      178.500000\n",
       "75%     2106.500000\n",
       "max    19558.000000"
      ]
     },
     "execution_count": 5,
     "metadata": {},
     "output_type": "execute_result"
    }
   ],
   "source": [
    "company.describe()"
   ]
  },
  {
   "cell_type": "code",
   "execution_count": 6,
   "id": "c385dae8",
   "metadata": {
    "scrolled": true
   },
   "outputs": [
    {
     "data": {
      "text/plain": [
       "0"
      ]
     },
     "execution_count": 6,
     "metadata": {},
     "output_type": "execute_result"
    }
   ],
   "source": [
    "company.duplicated().sum()"
   ]
  },
  {
   "cell_type": "markdown",
   "id": "ba2e70f5",
   "metadata": {},
   "source": [
    "**Conclusión**\n",
    "\n",
    "Trás leer el Dataframe company, se concluye que no existen datos ausentes, como tampoco existen datos duplicados. Por lo que se puede observar, los tipos de datos son los correctos."
   ]
  },
  {
   "cell_type": "code",
   "execution_count": 7,
   "id": "ec8600db",
   "metadata": {},
   "outputs": [
    {
     "data": {
      "text/html": [
       "<div>\n",
       "<style scoped>\n",
       "    .dataframe tbody tr th:only-of-type {\n",
       "        vertical-align: middle;\n",
       "    }\n",
       "\n",
       "    .dataframe tbody tr th {\n",
       "        vertical-align: top;\n",
       "    }\n",
       "\n",
       "    .dataframe thead th {\n",
       "        text-align: right;\n",
       "    }\n",
       "</style>\n",
       "<table border=\"1\" class=\"dataframe\">\n",
       "  <thead>\n",
       "    <tr style=\"text-align: right;\">\n",
       "      <th></th>\n",
       "      <th>dropoff_location_name</th>\n",
       "      <th>average_trips</th>\n",
       "    </tr>\n",
       "  </thead>\n",
       "  <tbody>\n",
       "    <tr>\n",
       "      <th>0</th>\n",
       "      <td>Loop</td>\n",
       "      <td>10727.466667</td>\n",
       "    </tr>\n",
       "    <tr>\n",
       "      <th>1</th>\n",
       "      <td>River North</td>\n",
       "      <td>9523.666667</td>\n",
       "    </tr>\n",
       "    <tr>\n",
       "      <th>2</th>\n",
       "      <td>Streeterville</td>\n",
       "      <td>6664.666667</td>\n",
       "    </tr>\n",
       "    <tr>\n",
       "      <th>3</th>\n",
       "      <td>West Loop</td>\n",
       "      <td>5163.666667</td>\n",
       "    </tr>\n",
       "    <tr>\n",
       "      <th>4</th>\n",
       "      <td>O'Hare</td>\n",
       "      <td>2546.900000</td>\n",
       "    </tr>\n",
       "  </tbody>\n",
       "</table>\n",
       "</div>"
      ],
      "text/plain": [
       "  dropoff_location_name  average_trips\n",
       "0                  Loop   10727.466667\n",
       "1           River North    9523.666667\n",
       "2         Streeterville    6664.666667\n",
       "3             West Loop    5163.666667\n",
       "4                O'Hare    2546.900000"
      ]
     },
     "execution_count": 7,
     "metadata": {},
     "output_type": "execute_result"
    }
   ],
   "source": [
    "viajes.head()"
   ]
  },
  {
   "cell_type": "code",
   "execution_count": 8,
   "id": "7bba3242",
   "metadata": {},
   "outputs": [
    {
     "name": "stdout",
     "output_type": "stream",
     "text": [
      "<class 'pandas.core.frame.DataFrame'>\n",
      "RangeIndex: 94 entries, 0 to 93\n",
      "Data columns (total 2 columns):\n",
      " #   Column                 Non-Null Count  Dtype  \n",
      "---  ------                 --------------  -----  \n",
      " 0   dropoff_location_name  94 non-null     object \n",
      " 1   average_trips          94 non-null     float64\n",
      "dtypes: float64(1), object(1)\n",
      "memory usage: 1.6+ KB\n"
     ]
    }
   ],
   "source": [
    "viajes.info()"
   ]
  },
  {
   "cell_type": "code",
   "execution_count": 9,
   "id": "b21ab907",
   "metadata": {
    "scrolled": true
   },
   "outputs": [
    {
     "data": {
      "text/html": [
       "<div>\n",
       "<style scoped>\n",
       "    .dataframe tbody tr th:only-of-type {\n",
       "        vertical-align: middle;\n",
       "    }\n",
       "\n",
       "    .dataframe tbody tr th {\n",
       "        vertical-align: top;\n",
       "    }\n",
       "\n",
       "    .dataframe thead th {\n",
       "        text-align: right;\n",
       "    }\n",
       "</style>\n",
       "<table border=\"1\" class=\"dataframe\">\n",
       "  <thead>\n",
       "    <tr style=\"text-align: right;\">\n",
       "      <th></th>\n",
       "      <th>average_trips</th>\n",
       "    </tr>\n",
       "  </thead>\n",
       "  <tbody>\n",
       "    <tr>\n",
       "      <th>count</th>\n",
       "      <td>94.000000</td>\n",
       "    </tr>\n",
       "    <tr>\n",
       "      <th>mean</th>\n",
       "      <td>599.953728</td>\n",
       "    </tr>\n",
       "    <tr>\n",
       "      <th>std</th>\n",
       "      <td>1714.591098</td>\n",
       "    </tr>\n",
       "    <tr>\n",
       "      <th>min</th>\n",
       "      <td>1.800000</td>\n",
       "    </tr>\n",
       "    <tr>\n",
       "      <th>25%</th>\n",
       "      <td>14.266667</td>\n",
       "    </tr>\n",
       "    <tr>\n",
       "      <th>50%</th>\n",
       "      <td>52.016667</td>\n",
       "    </tr>\n",
       "    <tr>\n",
       "      <th>75%</th>\n",
       "      <td>298.858333</td>\n",
       "    </tr>\n",
       "    <tr>\n",
       "      <th>max</th>\n",
       "      <td>10727.466667</td>\n",
       "    </tr>\n",
       "  </tbody>\n",
       "</table>\n",
       "</div>"
      ],
      "text/plain": [
       "       average_trips\n",
       "count      94.000000\n",
       "mean      599.953728\n",
       "std      1714.591098\n",
       "min         1.800000\n",
       "25%        14.266667\n",
       "50%        52.016667\n",
       "75%       298.858333\n",
       "max     10727.466667"
      ]
     },
     "execution_count": 9,
     "metadata": {},
     "output_type": "execute_result"
    }
   ],
   "source": [
    "viajes.describe()"
   ]
  },
  {
   "cell_type": "code",
   "execution_count": 10,
   "id": "39bf7db8",
   "metadata": {},
   "outputs": [
    {
     "data": {
      "text/plain": [
       "0"
      ]
     },
     "execution_count": 10,
     "metadata": {},
     "output_type": "execute_result"
    }
   ],
   "source": [
    "viajes.duplicated().sum()"
   ]
  },
  {
   "cell_type": "code",
   "execution_count": 11,
   "id": "763643d1",
   "metadata": {},
   "outputs": [],
   "source": [
    "#Cambiaremos el tipo de dato en la columna \"average_trips\" del dataframe viajes de float64 a int64\n",
    "viajes = viajes.copy()"
   ]
  },
  {
   "cell_type": "code",
   "execution_count": 12,
   "id": "4ae58855",
   "metadata": {},
   "outputs": [],
   "source": [
    "viajes['average_trips'] = viajes['average_trips'].astype('int64')"
   ]
  },
  {
   "cell_type": "code",
   "execution_count": 13,
   "id": "3812b479",
   "metadata": {
    "scrolled": true
   },
   "outputs": [
    {
     "data": {
      "text/html": [
       "<div>\n",
       "<style scoped>\n",
       "    .dataframe tbody tr th:only-of-type {\n",
       "        vertical-align: middle;\n",
       "    }\n",
       "\n",
       "    .dataframe tbody tr th {\n",
       "        vertical-align: top;\n",
       "    }\n",
       "\n",
       "    .dataframe thead th {\n",
       "        text-align: right;\n",
       "    }\n",
       "</style>\n",
       "<table border=\"1\" class=\"dataframe\">\n",
       "  <thead>\n",
       "    <tr style=\"text-align: right;\">\n",
       "      <th></th>\n",
       "      <th>dropoff_location_name</th>\n",
       "      <th>average_trips</th>\n",
       "    </tr>\n",
       "  </thead>\n",
       "  <tbody>\n",
       "    <tr>\n",
       "      <th>0</th>\n",
       "      <td>Loop</td>\n",
       "      <td>10727</td>\n",
       "    </tr>\n",
       "    <tr>\n",
       "      <th>1</th>\n",
       "      <td>River North</td>\n",
       "      <td>9523</td>\n",
       "    </tr>\n",
       "    <tr>\n",
       "      <th>2</th>\n",
       "      <td>Streeterville</td>\n",
       "      <td>6664</td>\n",
       "    </tr>\n",
       "    <tr>\n",
       "      <th>3</th>\n",
       "      <td>West Loop</td>\n",
       "      <td>5163</td>\n",
       "    </tr>\n",
       "    <tr>\n",
       "      <th>4</th>\n",
       "      <td>O'Hare</td>\n",
       "      <td>2546</td>\n",
       "    </tr>\n",
       "  </tbody>\n",
       "</table>\n",
       "</div>"
      ],
      "text/plain": [
       "  dropoff_location_name  average_trips\n",
       "0                  Loop          10727\n",
       "1           River North           9523\n",
       "2         Streeterville           6664\n",
       "3             West Loop           5163\n",
       "4                O'Hare           2546"
      ]
     },
     "execution_count": 13,
     "metadata": {},
     "output_type": "execute_result"
    }
   ],
   "source": [
    "viajes.head()"
   ]
  },
  {
   "cell_type": "markdown",
   "id": "78eeb9df",
   "metadata": {},
   "source": [
    "**Conclusión**\n",
    "\n",
    "Al leer el Dataframe viajes, visualizamos que no existen datos nulos o datos duplicados. Cambiamos el tipo de dato en la columna \"average_trips\", ya que es mas fácil trabajar con números enteros en éste caso.\n",
    "Se visualiza que la media es muy superior a la mediana, por lo que se trabajará con la media, ya que es mas exacto según los datos de la columna."
   ]
  },
  {
   "cell_type": "code",
   "execution_count": 14,
   "id": "cdb33368",
   "metadata": {
    "scrolled": true
   },
   "outputs": [
    {
     "data": {
      "text/html": [
       "<div>\n",
       "<style scoped>\n",
       "    .dataframe tbody tr th:only-of-type {\n",
       "        vertical-align: middle;\n",
       "    }\n",
       "\n",
       "    .dataframe tbody tr th {\n",
       "        vertical-align: top;\n",
       "    }\n",
       "\n",
       "    .dataframe thead th {\n",
       "        text-align: right;\n",
       "    }\n",
       "</style>\n",
       "<table border=\"1\" class=\"dataframe\">\n",
       "  <thead>\n",
       "    <tr style=\"text-align: right;\">\n",
       "      <th></th>\n",
       "      <th>start_ts</th>\n",
       "      <th>weather_conditions</th>\n",
       "      <th>duration_seconds</th>\n",
       "    </tr>\n",
       "  </thead>\n",
       "  <tbody>\n",
       "    <tr>\n",
       "      <th>0</th>\n",
       "      <td>2017-11-25 16:00:00</td>\n",
       "      <td>Good</td>\n",
       "      <td>2410.0</td>\n",
       "    </tr>\n",
       "    <tr>\n",
       "      <th>1</th>\n",
       "      <td>2017-11-25 14:00:00</td>\n",
       "      <td>Good</td>\n",
       "      <td>1920.0</td>\n",
       "    </tr>\n",
       "    <tr>\n",
       "      <th>2</th>\n",
       "      <td>2017-11-25 12:00:00</td>\n",
       "      <td>Good</td>\n",
       "      <td>1543.0</td>\n",
       "    </tr>\n",
       "    <tr>\n",
       "      <th>3</th>\n",
       "      <td>2017-11-04 10:00:00</td>\n",
       "      <td>Good</td>\n",
       "      <td>2512.0</td>\n",
       "    </tr>\n",
       "    <tr>\n",
       "      <th>4</th>\n",
       "      <td>2017-11-11 07:00:00</td>\n",
       "      <td>Good</td>\n",
       "      <td>1440.0</td>\n",
       "    </tr>\n",
       "  </tbody>\n",
       "</table>\n",
       "</div>"
      ],
      "text/plain": [
       "              start_ts weather_conditions  duration_seconds\n",
       "0  2017-11-25 16:00:00               Good            2410.0\n",
       "1  2017-11-25 14:00:00               Good            1920.0\n",
       "2  2017-11-25 12:00:00               Good            1543.0\n",
       "3  2017-11-04 10:00:00               Good            2512.0\n",
       "4  2017-11-11 07:00:00               Good            1440.0"
      ]
     },
     "execution_count": 14,
     "metadata": {},
     "output_type": "execute_result"
    }
   ],
   "source": [
    "airport.head()"
   ]
  },
  {
   "cell_type": "code",
   "execution_count": 15,
   "id": "099eba60",
   "metadata": {
    "scrolled": true
   },
   "outputs": [
    {
     "name": "stdout",
     "output_type": "stream",
     "text": [
      "<class 'pandas.core.frame.DataFrame'>\n",
      "RangeIndex: 1068 entries, 0 to 1067\n",
      "Data columns (total 3 columns):\n",
      " #   Column              Non-Null Count  Dtype  \n",
      "---  ------              --------------  -----  \n",
      " 0   start_ts            1068 non-null   object \n",
      " 1   weather_conditions  1068 non-null   object \n",
      " 2   duration_seconds    1068 non-null   float64\n",
      "dtypes: float64(1), object(2)\n",
      "memory usage: 25.2+ KB\n"
     ]
    }
   ],
   "source": [
    "airport.info()"
   ]
  },
  {
   "cell_type": "code",
   "execution_count": 16,
   "id": "a4523e30",
   "metadata": {
    "scrolled": true
   },
   "outputs": [
    {
     "data": {
      "text/html": [
       "<div>\n",
       "<style scoped>\n",
       "    .dataframe tbody tr th:only-of-type {\n",
       "        vertical-align: middle;\n",
       "    }\n",
       "\n",
       "    .dataframe tbody tr th {\n",
       "        vertical-align: top;\n",
       "    }\n",
       "\n",
       "    .dataframe thead th {\n",
       "        text-align: right;\n",
       "    }\n",
       "</style>\n",
       "<table border=\"1\" class=\"dataframe\">\n",
       "  <thead>\n",
       "    <tr style=\"text-align: right;\">\n",
       "      <th></th>\n",
       "      <th>duration_seconds</th>\n",
       "    </tr>\n",
       "  </thead>\n",
       "  <tbody>\n",
       "    <tr>\n",
       "      <th>count</th>\n",
       "      <td>1068.000000</td>\n",
       "    </tr>\n",
       "    <tr>\n",
       "      <th>mean</th>\n",
       "      <td>2071.731273</td>\n",
       "    </tr>\n",
       "    <tr>\n",
       "      <th>std</th>\n",
       "      <td>769.461125</td>\n",
       "    </tr>\n",
       "    <tr>\n",
       "      <th>min</th>\n",
       "      <td>0.000000</td>\n",
       "    </tr>\n",
       "    <tr>\n",
       "      <th>25%</th>\n",
       "      <td>1438.250000</td>\n",
       "    </tr>\n",
       "    <tr>\n",
       "      <th>50%</th>\n",
       "      <td>1980.000000</td>\n",
       "    </tr>\n",
       "    <tr>\n",
       "      <th>75%</th>\n",
       "      <td>2580.000000</td>\n",
       "    </tr>\n",
       "    <tr>\n",
       "      <th>max</th>\n",
       "      <td>7440.000000</td>\n",
       "    </tr>\n",
       "  </tbody>\n",
       "</table>\n",
       "</div>"
      ],
      "text/plain": [
       "       duration_seconds\n",
       "count       1068.000000\n",
       "mean        2071.731273\n",
       "std          769.461125\n",
       "min            0.000000\n",
       "25%         1438.250000\n",
       "50%         1980.000000\n",
       "75%         2580.000000\n",
       "max         7440.000000"
      ]
     },
     "execution_count": 16,
     "metadata": {},
     "output_type": "execute_result"
    }
   ],
   "source": [
    "airport.describe()"
   ]
  },
  {
   "cell_type": "code",
   "execution_count": 17,
   "id": "5a4170c7",
   "metadata": {},
   "outputs": [
    {
     "data": {
      "text/plain": [
       "197"
      ]
     },
     "execution_count": 17,
     "metadata": {},
     "output_type": "execute_result"
    }
   ],
   "source": [
    "airport.duplicated().sum()"
   ]
  },
  {
   "cell_type": "code",
   "execution_count": 18,
   "id": "5e31f9cb",
   "metadata": {},
   "outputs": [],
   "source": [
    "airport['start_ts'] = pd.to_datetime(airport['start_ts'], format='%Y-%m-%d %H:%M:%S', errors='raise')"
   ]
  },
  {
   "cell_type": "code",
   "execution_count": 19,
   "id": "60792812",
   "metadata": {
    "scrolled": true
   },
   "outputs": [
    {
     "name": "stdout",
     "output_type": "stream",
     "text": [
      "<class 'pandas.core.frame.DataFrame'>\n",
      "RangeIndex: 1068 entries, 0 to 1067\n",
      "Data columns (total 3 columns):\n",
      " #   Column              Non-Null Count  Dtype         \n",
      "---  ------              --------------  -----         \n",
      " 0   start_ts            1068 non-null   datetime64[ns]\n",
      " 1   weather_conditions  1068 non-null   object        \n",
      " 2   duration_seconds    1068 non-null   float64       \n",
      "dtypes: datetime64[ns](1), float64(1), object(1)\n",
      "memory usage: 25.2+ KB\n"
     ]
    }
   ],
   "source": [
    "airport.info()"
   ]
  },
  {
   "cell_type": "code",
   "execution_count": 20,
   "id": "1a18d14f",
   "metadata": {
    "scrolled": true
   },
   "outputs": [
    {
     "data": {
      "text/html": [
       "<div>\n",
       "<style scoped>\n",
       "    .dataframe tbody tr th:only-of-type {\n",
       "        vertical-align: middle;\n",
       "    }\n",
       "\n",
       "    .dataframe tbody tr th {\n",
       "        vertical-align: top;\n",
       "    }\n",
       "\n",
       "    .dataframe thead th {\n",
       "        text-align: right;\n",
       "    }\n",
       "</style>\n",
       "<table border=\"1\" class=\"dataframe\">\n",
       "  <thead>\n",
       "    <tr style=\"text-align: right;\">\n",
       "      <th></th>\n",
       "      <th>start_ts</th>\n",
       "      <th>weather_conditions</th>\n",
       "      <th>duration_seconds</th>\n",
       "    </tr>\n",
       "  </thead>\n",
       "  <tbody>\n",
       "    <tr>\n",
       "      <th>62</th>\n",
       "      <td>2017-11-11 06:00:00</td>\n",
       "      <td>Good</td>\n",
       "      <td>1260.0</td>\n",
       "    </tr>\n",
       "    <tr>\n",
       "      <th>74</th>\n",
       "      <td>2017-11-11 08:00:00</td>\n",
       "      <td>Good</td>\n",
       "      <td>1380.0</td>\n",
       "    </tr>\n",
       "    <tr>\n",
       "      <th>76</th>\n",
       "      <td>2017-11-04 09:00:00</td>\n",
       "      <td>Good</td>\n",
       "      <td>1380.0</td>\n",
       "    </tr>\n",
       "    <tr>\n",
       "      <th>117</th>\n",
       "      <td>2017-11-11 07:00:00</td>\n",
       "      <td>Good</td>\n",
       "      <td>1380.0</td>\n",
       "    </tr>\n",
       "    <tr>\n",
       "      <th>119</th>\n",
       "      <td>2017-11-04 14:00:00</td>\n",
       "      <td>Good</td>\n",
       "      <td>3300.0</td>\n",
       "    </tr>\n",
       "  </tbody>\n",
       "</table>\n",
       "</div>"
      ],
      "text/plain": [
       "               start_ts weather_conditions  duration_seconds\n",
       "62  2017-11-11 06:00:00               Good            1260.0\n",
       "74  2017-11-11 08:00:00               Good            1380.0\n",
       "76  2017-11-04 09:00:00               Good            1380.0\n",
       "117 2017-11-11 07:00:00               Good            1380.0\n",
       "119 2017-11-04 14:00:00               Good            3300.0"
      ]
     },
     "execution_count": 20,
     "metadata": {},
     "output_type": "execute_result"
    }
   ],
   "source": [
    "duplicated_airport = airport[airport.duplicated()]\n",
    "duplicated_airport.head()"
   ]
  },
  {
   "cell_type": "markdown",
   "id": "dd92ae79",
   "metadata": {},
   "source": [
    "**Conclusión**\n",
    "\n",
    "Al visualizar el tercer dataframe, airport, concluímos que no existen datos nulos, pero sí existen 197 datos duplicados. Al investigar el dataframe, notamos que no existe un identificador de usuario, un id, por lo tanto perfectamente pueden ser otros viajes con los mismos datos.\n",
    "Corregimos la columna start_ts de object a datatime."
   ]
  },
  {
   "cell_type": "markdown",
   "id": "8d0dcac3",
   "metadata": {},
   "source": [
    "### identificar los 10 principales barrios en términos de finalización del recorrido"
   ]
  },
  {
   "cell_type": "code",
   "execution_count": 21,
   "id": "cb7dd7af",
   "metadata": {},
   "outputs": [],
   "source": [
    "location_pop = viajes.pivot_table(index='dropoff_location_name', values='average_trips', aggfunc='sum').sort_values(by='average_trips', ascending=False).reset_index().head(10)"
   ]
  },
  {
   "cell_type": "code",
   "execution_count": 22,
   "id": "49e13f43",
   "metadata": {},
   "outputs": [
    {
     "data": {
      "text/html": [
       "<div>\n",
       "<style scoped>\n",
       "    .dataframe tbody tr th:only-of-type {\n",
       "        vertical-align: middle;\n",
       "    }\n",
       "\n",
       "    .dataframe tbody tr th {\n",
       "        vertical-align: top;\n",
       "    }\n",
       "\n",
       "    .dataframe thead th {\n",
       "        text-align: right;\n",
       "    }\n",
       "</style>\n",
       "<table border=\"1\" class=\"dataframe\">\n",
       "  <thead>\n",
       "    <tr style=\"text-align: right;\">\n",
       "      <th></th>\n",
       "      <th>dropoff_location_name</th>\n",
       "      <th>average_trips</th>\n",
       "    </tr>\n",
       "  </thead>\n",
       "  <tbody>\n",
       "    <tr>\n",
       "      <th>0</th>\n",
       "      <td>Loop</td>\n",
       "      <td>10727</td>\n",
       "    </tr>\n",
       "    <tr>\n",
       "      <th>1</th>\n",
       "      <td>River North</td>\n",
       "      <td>9523</td>\n",
       "    </tr>\n",
       "    <tr>\n",
       "      <th>2</th>\n",
       "      <td>Streeterville</td>\n",
       "      <td>6664</td>\n",
       "    </tr>\n",
       "    <tr>\n",
       "      <th>3</th>\n",
       "      <td>West Loop</td>\n",
       "      <td>5163</td>\n",
       "    </tr>\n",
       "    <tr>\n",
       "      <th>4</th>\n",
       "      <td>O'Hare</td>\n",
       "      <td>2546</td>\n",
       "    </tr>\n",
       "    <tr>\n",
       "      <th>5</th>\n",
       "      <td>Lake View</td>\n",
       "      <td>2420</td>\n",
       "    </tr>\n",
       "    <tr>\n",
       "      <th>6</th>\n",
       "      <td>Grant Park</td>\n",
       "      <td>2068</td>\n",
       "    </tr>\n",
       "    <tr>\n",
       "      <th>7</th>\n",
       "      <td>Museum Campus</td>\n",
       "      <td>1510</td>\n",
       "    </tr>\n",
       "    <tr>\n",
       "      <th>8</th>\n",
       "      <td>Gold Coast</td>\n",
       "      <td>1364</td>\n",
       "    </tr>\n",
       "    <tr>\n",
       "      <th>9</th>\n",
       "      <td>Sheffield &amp; DePaul</td>\n",
       "      <td>1259</td>\n",
       "    </tr>\n",
       "  </tbody>\n",
       "</table>\n",
       "</div>"
      ],
      "text/plain": [
       "  dropoff_location_name  average_trips\n",
       "0                  Loop          10727\n",
       "1           River North           9523\n",
       "2         Streeterville           6664\n",
       "3             West Loop           5163\n",
       "4                O'Hare           2546\n",
       "5             Lake View           2420\n",
       "6            Grant Park           2068\n",
       "7         Museum Campus           1510\n",
       "8            Gold Coast           1364\n",
       "9    Sheffield & DePaul           1259"
      ]
     },
     "execution_count": 22,
     "metadata": {},
     "output_type": "execute_result"
    }
   ],
   "source": [
    "location_pop"
   ]
  },
  {
   "cell_type": "markdown",
   "id": "7d3947d7",
   "metadata": {},
   "source": [
    "### Hacer gráficos: empresas de taxis y número de viajes, los 10 barrios principales por número de finalizaciones"
   ]
  },
  {
   "cell_type": "code",
   "execution_count": 23,
   "id": "a25ae7ea",
   "metadata": {},
   "outputs": [
    {
     "data": {
      "text/html": [
       "<div>\n",
       "<style scoped>\n",
       "    .dataframe tbody tr th:only-of-type {\n",
       "        vertical-align: middle;\n",
       "    }\n",
       "\n",
       "    .dataframe tbody tr th {\n",
       "        vertical-align: top;\n",
       "    }\n",
       "\n",
       "    .dataframe thead th {\n",
       "        text-align: right;\n",
       "    }\n",
       "</style>\n",
       "<table border=\"1\" class=\"dataframe\">\n",
       "  <thead>\n",
       "    <tr style=\"text-align: right;\">\n",
       "      <th></th>\n",
       "      <th>company_name</th>\n",
       "      <th>trips_amount</th>\n",
       "    </tr>\n",
       "  </thead>\n",
       "  <tbody>\n",
       "    <tr>\n",
       "      <th>0</th>\n",
       "      <td>Flash Cab</td>\n",
       "      <td>19558</td>\n",
       "    </tr>\n",
       "    <tr>\n",
       "      <th>1</th>\n",
       "      <td>Taxi Affiliation Services</td>\n",
       "      <td>11422</td>\n",
       "    </tr>\n",
       "    <tr>\n",
       "      <th>2</th>\n",
       "      <td>Medallion Leasing</td>\n",
       "      <td>10367</td>\n",
       "    </tr>\n",
       "    <tr>\n",
       "      <th>3</th>\n",
       "      <td>Yellow Cab</td>\n",
       "      <td>9888</td>\n",
       "    </tr>\n",
       "    <tr>\n",
       "      <th>4</th>\n",
       "      <td>Taxi Affiliation Service Yellow</td>\n",
       "      <td>9299</td>\n",
       "    </tr>\n",
       "    <tr>\n",
       "      <th>5</th>\n",
       "      <td>Chicago Carriage Cab Corp</td>\n",
       "      <td>9181</td>\n",
       "    </tr>\n",
       "    <tr>\n",
       "      <th>6</th>\n",
       "      <td>City Service</td>\n",
       "      <td>8448</td>\n",
       "    </tr>\n",
       "    <tr>\n",
       "      <th>7</th>\n",
       "      <td>Sun Taxi</td>\n",
       "      <td>7701</td>\n",
       "    </tr>\n",
       "    <tr>\n",
       "      <th>8</th>\n",
       "      <td>Star North Management LLC</td>\n",
       "      <td>7455</td>\n",
       "    </tr>\n",
       "    <tr>\n",
       "      <th>9</th>\n",
       "      <td>Blue Ribbon Taxi Association Inc.</td>\n",
       "      <td>5953</td>\n",
       "    </tr>\n",
       "  </tbody>\n",
       "</table>\n",
       "</div>"
      ],
      "text/plain": [
       "                        company_name  trips_amount\n",
       "0                          Flash Cab         19558\n",
       "1          Taxi Affiliation Services         11422\n",
       "2                  Medallion Leasing         10367\n",
       "3                         Yellow Cab          9888\n",
       "4    Taxi Affiliation Service Yellow          9299\n",
       "5          Chicago Carriage Cab Corp          9181\n",
       "6                       City Service          8448\n",
       "7                           Sun Taxi          7701\n",
       "8          Star North Management LLC          7455\n",
       "9  Blue Ribbon Taxi Association Inc.          5953"
      ]
     },
     "execution_count": 23,
     "metadata": {},
     "output_type": "execute_result"
    }
   ],
   "source": [
    "max_taxi = company.sort_values(by='trips_amount',ascending=False).head(10)\n",
    "max_taxi"
   ]
  },
  {
   "cell_type": "code",
   "execution_count": 24,
   "id": "3ab54177",
   "metadata": {},
   "outputs": [
    {
     "data": {
      "text/html": [
       "<div>\n",
       "<style scoped>\n",
       "    .dataframe tbody tr th:only-of-type {\n",
       "        vertical-align: middle;\n",
       "    }\n",
       "\n",
       "    .dataframe tbody tr th {\n",
       "        vertical-align: top;\n",
       "    }\n",
       "\n",
       "    .dataframe thead th {\n",
       "        text-align: right;\n",
       "    }\n",
       "</style>\n",
       "<table border=\"1\" class=\"dataframe\">\n",
       "  <thead>\n",
       "    <tr style=\"text-align: right;\">\n",
       "      <th></th>\n",
       "      <th>company_name</th>\n",
       "      <th>trips_amount</th>\n",
       "    </tr>\n",
       "  </thead>\n",
       "  <tbody>\n",
       "    <tr>\n",
       "      <th>54</th>\n",
       "      <td>2192 - 73487 Zeymane Corp</td>\n",
       "      <td>14</td>\n",
       "    </tr>\n",
       "    <tr>\n",
       "      <th>55</th>\n",
       "      <td>6057 - 24657 Richard Addo</td>\n",
       "      <td>13</td>\n",
       "    </tr>\n",
       "    <tr>\n",
       "      <th>56</th>\n",
       "      <td>5997 - 65283 AW Services Inc.</td>\n",
       "      <td>12</td>\n",
       "    </tr>\n",
       "    <tr>\n",
       "      <th>57</th>\n",
       "      <td>Metro Group</td>\n",
       "      <td>11</td>\n",
       "    </tr>\n",
       "    <tr>\n",
       "      <th>58</th>\n",
       "      <td>5062 - 34841 Sam Mestas</td>\n",
       "      <td>8</td>\n",
       "    </tr>\n",
       "    <tr>\n",
       "      <th>59</th>\n",
       "      <td>4053 - 40193 Adwar H. Nikola</td>\n",
       "      <td>7</td>\n",
       "    </tr>\n",
       "    <tr>\n",
       "      <th>60</th>\n",
       "      <td>2733 - 74600 Benny Jona</td>\n",
       "      <td>7</td>\n",
       "    </tr>\n",
       "    <tr>\n",
       "      <th>61</th>\n",
       "      <td>5874 - 73628 Sergey Cab Corp.</td>\n",
       "      <td>5</td>\n",
       "    </tr>\n",
       "    <tr>\n",
       "      <th>62</th>\n",
       "      <td>2241 - 44667 - Felman Corp</td>\n",
       "      <td>3</td>\n",
       "    </tr>\n",
       "    <tr>\n",
       "      <th>63</th>\n",
       "      <td>3556 - 36214 RC Andrews Cab</td>\n",
       "      <td>2</td>\n",
       "    </tr>\n",
       "  </tbody>\n",
       "</table>\n",
       "</div>"
      ],
      "text/plain": [
       "                     company_name  trips_amount\n",
       "54      2192 - 73487 Zeymane Corp            14\n",
       "55      6057 - 24657 Richard Addo            13\n",
       "56  5997 - 65283 AW Services Inc.            12\n",
       "57                    Metro Group            11\n",
       "58        5062 - 34841 Sam Mestas             8\n",
       "59   4053 - 40193 Adwar H. Nikola             7\n",
       "60        2733 - 74600 Benny Jona             7\n",
       "61  5874 - 73628 Sergey Cab Corp.             5\n",
       "62     2241 - 44667 - Felman Corp             3\n",
       "63    3556 - 36214 RC Andrews Cab             2"
      ]
     },
     "execution_count": 24,
     "metadata": {},
     "output_type": "execute_result"
    }
   ],
   "source": [
    "min_taxi = company.sort_values(by='trips_amount',ascending=False).tail(10)\n",
    "min_taxi"
   ]
  },
  {
   "cell_type": "code",
   "execution_count": 25,
   "id": "e2457122",
   "metadata": {},
   "outputs": [
    {
     "data": {
      "image/png": "[encoded data removed]",
      "text/plain": [
       "<Figure size 576x288 with 1 Axes>"
      ]
     },
     "metadata": {
      "needs_background": "light"
     },
     "output_type": "display_data"
    }
   ],
   "source": [
    "#Gráfico para las empresas con mas viajes\n",
    "plt.figure(figsize=(8,4))\n",
    "plt.title('10 Empresas con mas viajes')\n",
    "sns.barplot(\n",
    "    data=max_taxi,\n",
    "    x='trips_amount',\n",
    "    y='company_name'\n",
    ");"
   ]
  },
  {
   "cell_type": "code",
   "execution_count": 26,
   "id": "0c351c4b",
   "metadata": {},
   "outputs": [
    {
     "data": {
      "image/png": "[encoded data removed]",
      "text/plain": [
       "<Figure size 576x288 with 1 Axes>"
      ]
     },
     "metadata": {
      "needs_background": "light"
     },
     "output_type": "display_data"
    }
   ],
   "source": [
    "#Gráfico para las empresas con menos viajes\n",
    "plt.figure(figsize=(8,4))\n",
    "plt.title('10 Empresas con menos viajes')\n",
    "sns.barplot(\n",
    "    data=min_taxi,\n",
    "    x='trips_amount',\n",
    "    y='company_name'\n",
    ");"
   ]
  },
  {
   "cell_type": "code",
   "execution_count": 27,
   "id": "ea187311",
   "metadata": {},
   "outputs": [
    {
     "data": {
      "image/png": "[encoded data removed]",
      "text/plain": [
       "<Figure size 1224x360 with 1 Axes>"
      ]
     },
     "metadata": {
      "needs_background": "light"
     },
     "output_type": "display_data"
    }
   ],
   "source": [
    "#Gráfico para los 10 barrios principales por finalización de viajes\n",
    "plt.figure(figsize=(17,5))\n",
    "plt.title('10 Barrios principales por finalización de viajes')\n",
    "sns.barplot(\n",
    "    data=location_pop,\n",
    "    x='dropoff_location_name',\n",
    "    y='average_trips'\n",
    ");"
   ]
  },
  {
   "cell_type": "markdown",
   "id": "2fc34bcd",
   "metadata": {},
   "source": [
    "**Conclusión**\n",
    "\n",
    "Tras la vizualisación de los graficos podemos concluir que la empresa preferida de los usuarios es Flash cab, quién duplica la cantidad de viajes en comparación a sus competidores mas cercanos. Por otra parte, vemos que de la empresa con menos viajes es la empresa Andrews Cab con solo 2 viajes. \n",
    "\n",
    "Los principales barrios donde terminan los viajes son Loop, River North, Streeterville y West Loop, muy por sobre el resto."
   ]
  },
  {
   "cell_type": "markdown",
   "id": "e971661b",
   "metadata": {},
   "source": [
    "#  Prueba de hipótesis"
   ]
  },
  {
   "cell_type": "code",
   "execution_count": 28,
   "id": "76a76cd3",
   "metadata": {},
   "outputs": [
    {
     "data": {
      "text/html": [
       "<div>\n",
       "<style scoped>\n",
       "    .dataframe tbody tr th:only-of-type {\n",
       "        vertical-align: middle;\n",
       "    }\n",
       "\n",
       "    .dataframe tbody tr th {\n",
       "        vertical-align: top;\n",
       "    }\n",
       "\n",
       "    .dataframe thead th {\n",
       "        text-align: right;\n",
       "    }\n",
       "</style>\n",
       "<table border=\"1\" class=\"dataframe\">\n",
       "  <thead>\n",
       "    <tr style=\"text-align: right;\">\n",
       "      <th></th>\n",
       "      <th>start_ts</th>\n",
       "      <th>weather_conditions</th>\n",
       "      <th>duration_seconds</th>\n",
       "    </tr>\n",
       "  </thead>\n",
       "  <tbody>\n",
       "    <tr>\n",
       "      <th>0</th>\n",
       "      <td>2017-11-25 16:00:00</td>\n",
       "      <td>Good</td>\n",
       "      <td>2410.0</td>\n",
       "    </tr>\n",
       "    <tr>\n",
       "      <th>1</th>\n",
       "      <td>2017-11-25 14:00:00</td>\n",
       "      <td>Good</td>\n",
       "      <td>1920.0</td>\n",
       "    </tr>\n",
       "    <tr>\n",
       "      <th>2</th>\n",
       "      <td>2017-11-25 12:00:00</td>\n",
       "      <td>Good</td>\n",
       "      <td>1543.0</td>\n",
       "    </tr>\n",
       "    <tr>\n",
       "      <th>3</th>\n",
       "      <td>2017-11-04 10:00:00</td>\n",
       "      <td>Good</td>\n",
       "      <td>2512.0</td>\n",
       "    </tr>\n",
       "    <tr>\n",
       "      <th>4</th>\n",
       "      <td>2017-11-11 07:00:00</td>\n",
       "      <td>Good</td>\n",
       "      <td>1440.0</td>\n",
       "    </tr>\n",
       "  </tbody>\n",
       "</table>\n",
       "</div>"
      ],
      "text/plain": [
       "             start_ts weather_conditions  duration_seconds\n",
       "0 2017-11-25 16:00:00               Good            2410.0\n",
       "1 2017-11-25 14:00:00               Good            1920.0\n",
       "2 2017-11-25 12:00:00               Good            1543.0\n",
       "3 2017-11-04 10:00:00               Good            2512.0\n",
       "4 2017-11-11 07:00:00               Good            1440.0"
      ]
     },
     "execution_count": 28,
     "metadata": {},
     "output_type": "execute_result"
    }
   ],
   "source": [
    "airport.head()"
   ]
  },
  {
   "cell_type": "markdown",
   "id": "1bd4dcea",
   "metadata": {},
   "source": [
    "**\"La duración promedio de los viajes desde el Loop hasta el Aeropuerto Internacional O'Hare cambia los sábados lluviosos\".**"
   ]
  },
  {
   "cell_type": "markdown",
   "id": "53268dea",
   "metadata": {},
   "source": [
    "- Hipotesis Nula: La duración promedio de los viajes desde el Loop hasta el Aeropuerto Internacional O'Hare no cambia los sábados lluviosos\n",
    "\n",
    "- Hipotesis alternativa: La duración promedio de los viajes desde el Loop hasta el Aeropuerto Internacional O'Hare cambia los sábados lluviosos"
   ]
  },
  {
   "cell_type": "code",
   "execution_count": 29,
   "id": "47d0dfd6",
   "metadata": {},
   "outputs": [],
   "source": [
    "from scipy.stats import levene"
   ]
  },
  {
   "cell_type": "code",
   "execution_count": 30,
   "id": "258297dc",
   "metadata": {},
   "outputs": [
    {
     "data": {
      "text/plain": [
       "1999.6756756756756"
      ]
     },
     "execution_count": 30,
     "metadata": {},
     "output_type": "execute_result"
    }
   ],
   "source": [
    "#duración promedio de viajes en segundos con buenas condiciones de clima\n",
    "good_weather = airport.query('weather_conditions == \"Good\"')\n",
    "good_weather.duration_seconds.mean()"
   ]
  },
  {
   "cell_type": "markdown",
   "id": "76b1d969",
   "metadata": {},
   "source": [
    "<div class=\"alert alert-block alert-info\">\n",
    "<b>Corregido.</b> <a class=\"tocSkip\"></a>"
   ]
  },
  {
   "cell_type": "code",
   "execution_count": 31,
   "id": "d645e88b",
   "metadata": {},
   "outputs": [
    {
     "data": {
      "text/html": [
       "<div>\n",
       "<style scoped>\n",
       "    .dataframe tbody tr th:only-of-type {\n",
       "        vertical-align: middle;\n",
       "    }\n",
       "\n",
       "    .dataframe tbody tr th {\n",
       "        vertical-align: top;\n",
       "    }\n",
       "\n",
       "    .dataframe thead th {\n",
       "        text-align: right;\n",
       "    }\n",
       "</style>\n",
       "<table border=\"1\" class=\"dataframe\">\n",
       "  <thead>\n",
       "    <tr style=\"text-align: right;\">\n",
       "      <th></th>\n",
       "      <th>start_ts</th>\n",
       "      <th>weather_conditions</th>\n",
       "      <th>duration_seconds</th>\n",
       "    </tr>\n",
       "  </thead>\n",
       "  <tbody>\n",
       "    <tr>\n",
       "      <th>6</th>\n",
       "      <td>2017-11-04 16:00:00</td>\n",
       "      <td>Bad</td>\n",
       "      <td>2969.0</td>\n",
       "    </tr>\n",
       "    <tr>\n",
       "      <th>30</th>\n",
       "      <td>2017-11-18 12:00:00</td>\n",
       "      <td>Bad</td>\n",
       "      <td>1980.0</td>\n",
       "    </tr>\n",
       "    <tr>\n",
       "      <th>34</th>\n",
       "      <td>2017-11-04 17:00:00</td>\n",
       "      <td>Bad</td>\n",
       "      <td>2460.0</td>\n",
       "    </tr>\n",
       "    <tr>\n",
       "      <th>51</th>\n",
       "      <td>2017-11-04 16:00:00</td>\n",
       "      <td>Bad</td>\n",
       "      <td>2760.0</td>\n",
       "    </tr>\n",
       "    <tr>\n",
       "      <th>52</th>\n",
       "      <td>2017-11-18 12:00:00</td>\n",
       "      <td>Bad</td>\n",
       "      <td>2460.0</td>\n",
       "    </tr>\n",
       "  </tbody>\n",
       "</table>\n",
       "</div>"
      ],
      "text/plain": [
       "              start_ts weather_conditions  duration_seconds\n",
       "6  2017-11-04 16:00:00                Bad            2969.0\n",
       "30 2017-11-18 12:00:00                Bad            1980.0\n",
       "34 2017-11-04 17:00:00                Bad            2460.0\n",
       "51 2017-11-04 16:00:00                Bad            2760.0\n",
       "52 2017-11-18 12:00:00                Bad            2460.0"
      ]
     },
     "execution_count": 31,
     "metadata": {},
     "output_type": "execute_result"
    }
   ],
   "source": [
    "bad_weather = airport.query('weather_conditions == \"Bad\"')\n",
    "bad_weather.head()"
   ]
  },
  {
   "cell_type": "code",
   "execution_count": 32,
   "id": "8b9061f9",
   "metadata": {},
   "outputs": [
    {
     "data": {
      "text/plain": [
       "2427.2055555555557"
      ]
     },
     "execution_count": 32,
     "metadata": {},
     "output_type": "execute_result"
    }
   ],
   "source": [
    "bad_weather.duration_seconds.mean()"
   ]
  },
  {
   "cell_type": "code",
   "execution_count": 33,
   "id": "1c937596",
   "metadata": {},
   "outputs": [
    {
     "name": "stdout",
     "output_type": "stream",
     "text": [
      "575732.9308497686\n",
      "-----\n",
      "517403.56330246915\n"
     ]
    }
   ],
   "source": [
    "var_good = np.var(good_weather.duration_seconds)\n",
    "var_bad   = np.var(bad_weather.duration_seconds)\n",
    "print(var_good)\n",
    "print(\"-----\")\n",
    "print(var_bad)"
   ]
  },
  {
   "cell_type": "code",
   "execution_count": 34,
   "id": "b8710214",
   "metadata": {},
   "outputs": [
    {
     "name": "stdout",
     "output_type": "stream",
     "text": [
      "p-value: 6.738994326108734e-12\n",
      "Rechazamos la hipótesis nula\n"
     ]
    }
   ],
   "source": [
    "ejemplo_1 = good_weather['duration_seconds']\n",
    "ejemplo_2 = bad_weather['duration_seconds']\n",
    "\n",
    "alpha = 0.05 \n",
    "\n",
    "results =st.ttest_ind(ejemplo_1, ejemplo_2, equal_var = False) \n",
    "print('p-value:', results.pvalue) \n",
    "\n",
    "if (results.pvalue < alpha):\n",
    "    print(\"Rechazamos la hipótesis nula\")\n",
    "else:\n",
    "    print(\"No rechazamos la hipótesis nula\")"
   ]
  },
  {
   "cell_type": "markdown",
   "id": "a5ccd069",
   "metadata": {},
   "source": [
    "**Conclusión**\n",
    "\n",
    "Se nos pide corroborar o descartar la hipótesis: 'La duración promedio de los viajes desde Loop hasta el Aeropuerto Internacional O'Hare cambia los sábados lluviosos'. Tras realizar una prueba de hipótesis de igualdad sobre las medias rechazamos la hipotesis nula dado que el valor de p-value fue por debajo de lo esperado.\n",
    "\n",
    "Por lo tanto se concluye que La duración de los viajes desde Loop hasta el Aeropuerto Internacional O'hare SI cambia los sábados lluviosos."
   ]
  },
  {
   "cell_type": "markdown",
   "id": "db3e6e57",
   "metadata": {},
   "source": [
    "### Conclusión Final"
   ]
  },
  {
   "cell_type": "markdown",
   "id": "b8bca0b5",
   "metadata": {},
   "source": [
    "Tras analizar los distintos dataframes, se observa que los datos venían practicamente limpios, salvo pequeños cambios que tuvimos que realizar. Pasando a la visualización de los datos pudimos identificar preferencias de usuarios donde Flash cab es la empresa con mayor cantidad de viajes y Andrews cab la empresa con menos viajes, barrios donde se concentran la mayor cantidad de viajes finalizados, siendo loop el barrio con mayor finalización de viajes. Por ultimo realizamos una prueba de hipotesis para corroborar o descartar el objetivo del proyecto el cual indicaba si el clima afecta el tiempo promedio de los viajes. Dando como resultado que según nuestra prueba el clima si afecta en alguna medida los tiempos medios de viaje."
   ]
  },
  {
   "cell_type": "code",
   "execution_count": null,
   "id": "baf81c7b",
   "metadata": {},
   "outputs": [],
   "source": []
  }
 ],
 "metadata": {
  "kernelspec": {
   "display_name": "Python 3 (ipykernel)",
   "language": "python",
   "name": "python3"
  },
  "language_info": {
   "codemirror_mode": {
    "name": "ipython",
    "version": 3
   },
   "file_extension": ".py",
   "mimetype": "text/x-python",
   "name": "python",
   "nbconvert_exporter": "python",
   "pygments_lexer": "ipython3",
   "version": "3.9.13"
  },
  "toc": {
   "base_numbering": 1,
   "nav_menu": {},
   "number_sections": true,
   "sideBar": true,
   "skip_h1_title": true,
   "title_cell": "Table of Contents",
   "title_sidebar": "Contents",
   "toc_cell": false,
   "toc_position": {},
   "toc_section_display": true,
   "toc_window_display": true
  }
 },
 "nbformat": 4,
 "nbformat_minor": 5
}
